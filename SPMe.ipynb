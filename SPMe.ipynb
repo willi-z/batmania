{
 "cells": [
  {
   "attachments": {},
   "cell_type": "markdown",
   "metadata": {},
   "source": [
    "# SPMe-Model"
   ]
  },
  {
   "attachments": {},
   "cell_type": "markdown",
   "metadata": {},
   "source": [
    "## About\n",
    "\n",
    "- authors:\n",
    "    - Scott J. Moura\n",
    "    - Federico Bribiesca Argomedo\n",
    "    - Reinhardt Klein\n",
    "    - Anahita Mirtabatabaei\n",
    "    - Miroslav Krstic\n",
    "- id:\n",
    "    `doi: 10.1109/TCST.2016.2571663`\n",
    "- tags:\n",
    "    - micro\n",
    "    - meso\n",
    "    - spm\n",
    "    - electrolyte\n",
    "- sources:\n",
    "    - [paper](https://ieeexplore.ieee.org/document/7489035)\n",
    "    - [model parameter](https://ieeexplore.ieee.org/document/8952455)\n",
    "\n",
    "This paper combines the single particle model with electrolyte (SPMe) dynamics."
   ]
  },
  {
   "attachments": {},
   "cell_type": "markdown",
   "metadata": {},
   "source": [
    "# Setup\n",
    "\n",
    "This notebooks requires the following packages:\n",
    "- [diffeq](https://pypi.org/project/diffeqpy/) - optional for more differential equation solvers (for more details see the [other solvers](#(optional)-other-solvers) section)\n",
    "- [matplotlib](https://pypi.org/project/matplotlib/) - plotting of the results\n",
    "- [numpy](https://pypi.org/project/numpy/) - required for all the numerical operations\n",
    "- [scikit-fem](https://pypi.org/project/scikit-fem/) - compute simple FEM \n",
    "- [scipy](https://pypi.org/project/scipy/) - solves the differential equation\n",
    "- [polars](https://pypi.org/project/polars/) - stores and read the date from a ``.json``-file (theoretically not required)\n",
    "\n",
    "\n",
    "All dependecies can be automatically be installed, if:\n",
    "````python\n",
    "automated_setup = True\n",
    "````\n",
    "\n",
    "**Note:** that the notebook will install the required packages for a ``python 3.10`` kernel.\n",
    "But the code can simply be adapted to other kernels."
   ]
  },
  {
   "cell_type": "code",
   "execution_count": 1,
   "metadata": {},
   "outputs": [],
   "source": [
    "automated_setup = False\n",
    "latex_plots = True\n",
    "save_results = True\n",
    "use_julia = False\n",
    "\n",
    "optional_content = {\n",
    "    \"radial_diffusion\": True,\n",
    "    \"spacial_diffusion\": True\n",
    "}\n",
    "\n",
    "from pathlib import Path\n",
    "\n",
    "result_path = Path.cwd() / \"sol_spme\"\n",
    "if not result_path.exists():\n",
    "    result_path.mkdir()"
   ]
  },
  {
   "attachments": {},
   "cell_type": "markdown",
   "metadata": {},
   "source": [
    "### Automated Install\n",
    "\n",
    "make sure the Python-Version is correct"
   ]
  },
  {
   "cell_type": "code",
   "execution_count": 2,
   "metadata": {},
   "outputs": [
    {
     "name": "stdout",
     "output_type": "stream",
     "text": [
      "3.10.12 (main, Jun  8 2023, 00:00:00) [GCC 13.1.1 20230511 (Red Hat 13.1.1-2)]\n"
     ]
    }
   ],
   "source": [
    "import sys\n",
    "print(sys.version)"
   ]
  },
  {
   "cell_type": "code",
   "execution_count": 3,
   "metadata": {},
   "outputs": [],
   "source": [
    "%%capture\n",
    "if automated_setup:\n",
    "    ! python3.10 -m pip install --upgrade pip\n",
    "    ! python3.10 -m pip install numpy\n",
    "    ! python3.10 -m pip install matplotlib\n",
    "    ! python3.10 -m pip install scipy\n",
    "    ! python3.10 -m pip install scikit-fem\n",
    "    ! python3.10 -m pip install polars"
   ]
  },
  {
   "attachments": {},
   "cell_type": "markdown",
   "metadata": {},
   "source": [
    "## Plots"
   ]
  },
  {
   "cell_type": "code",
   "execution_count": 4,
   "metadata": {},
   "outputs": [
    {
     "data": {
      "text/plain": [
       "'module://matplotlib_inline.backend_inline'"
      ]
     },
     "execution_count": 4,
     "metadata": {},
     "output_type": "execute_result"
    }
   ],
   "source": [
    "import matplotlib.pyplot as plt\n",
    "\n",
    "plt.get_backend()"
   ]
  },
  {
   "cell_type": "code",
   "execution_count": 5,
   "metadata": {},
   "outputs": [],
   "source": [
    "%matplotlib inline"
   ]
  },
  {
   "cell_type": "code",
   "execution_count": 6,
   "metadata": {},
   "outputs": [],
   "source": [
    "import matplotlib\n",
    "\n",
    "fig = plt.figure()\n",
    "plt.figure().clear()\n",
    "plt.close()\n",
    "plt.cla()\n",
    "plt.clf()\n",
    "\n",
    "def plot_setup():\n",
    "    if latex_plots:\n",
    "        matplotlib.use(\"pgf\")\n",
    "        matplotlib.rcParams.update({\n",
    "            \"pgf.texsystem\": \"pdflatex\",\n",
    "            'text.usetex': True,\n",
    "            'pgf.rcfonts': False,\n",
    "        })\n",
    "    else:\n",
    "        matplotlib.rcParams.update(matplotlib.rcParamsDefault)\n",
    "\n",
    "plot_setup()"
   ]
  },
  {
   "cell_type": "code",
   "execution_count": 7,
   "metadata": {},
   "outputs": [],
   "source": [
    "from matplotlib import pyplot\n",
    "\n",
    "\n",
    "def save_plot(plt: pyplot, name:str, suffix:str=None):\n",
    "    if save_results:\n",
    "        if suffix is None:\n",
    "            if latex_plots:\n",
    "                suffix = '.pgf'\n",
    "            else:\n",
    "                suffix = '.png'\n",
    "        plt.savefig(result_path / (name + suffix))"
   ]
  },
  {
   "cell_type": "code",
   "execution_count": 8,
   "metadata": {},
   "outputs": [],
   "source": [
    "dark_plots={\n",
    "    \"lines.color\": \"white\",\n",
    "    \"patch.edgecolor\": \"white\",\n",
    "    \"text.color\": \"black\",\n",
    "    \n",
    "    \"axes.linewidth\": 1.5,\n",
    "    \"axes.facecolor\": \"black\",\n",
    "\n",
    "    \"axes.edgecolor\": \"lightgray\",\n",
    "    \"axes.labelcolor\": \"white\",\n",
    "    \"xtick.color\": \"white\",\n",
    "    \"ytick.color\": \"white\",\n",
    "    \"figure.facecolor\": \"black\",\n",
    "    \"figure.edgecolor\": \"black\",\n",
    "\n",
    "    # grid\n",
    "    \"axes.grid\": True,\n",
    "    \"grid.color\": \"grey\",\n",
    "    \"grid.linestyle\": \"dashed\",\n",
    "    \n",
    "    # legend\n",
    "    \"legend.fancybox\": False,\n",
    "    \"legend.edgecolor\": \"white\",\n",
    "    \"legend.labelcolor\": \"white\",\n",
    "    \"legend.framealpha\": 0.8,\n",
    "    \n",
    "    \"savefig.facecolor\": \"black\",\n",
    "    \"savefig.edgecolor\": \"black\",\n",
    "    \"savefig.transparent\": True,\n",
    "}"
   ]
  },
  {
   "cell_type": "code",
   "execution_count": 9,
   "metadata": {},
   "outputs": [],
   "source": [
    "plot_config = dark_plots"
   ]
  },
  {
   "attachments": {},
   "cell_type": "markdown",
   "metadata": {},
   "source": [
    "# Simulation"
   ]
  },
  {
   "attachments": {},
   "cell_type": "markdown",
   "metadata": {},
   "source": [
    "## Open-Circuit Potential\n",
    "\n",
    "The values were taken from:\n",
    "```yaml\n",
    "title: Global Sensitivity Analysis of the Single Particle Lithium-Ion Battery Model with Electrolyte\n",
    "authors: Grandjean et al.\n",
    "doi: 10.1109/VPPC46532.2019.8952455\n",
    "```"
   ]
  },
  {
   "cell_type": "code",
   "execution_count": 10,
   "metadata": {},
   "outputs": [],
   "source": [
    "import numpy as np\n",
    "from uocps import U_ocp\n",
    "\n",
    "num_x = 1000\n",
    "x = np.linspace(0.+1/num_x, 1.0-1/num_x, num_x)\n",
    "U_ocp_MCMB = U_ocp(\"MCMB\", x)\n",
    "U_ocp_NMC  = U_ocp(\"NMC\", x)\n",
    "U_ocp_LMO  = U_ocp(\"LMO\", x)\n",
    "U_ocp_LFP  = U_ocp(\"LFP\", x)"
   ]
  },
  {
   "attachments": {},
   "cell_type": "markdown",
   "metadata": {},
   "source": [
    "### (Optional) Optical Comparison of different U_ocp's"
   ]
  },
  {
   "cell_type": "code",
   "execution_count": 11,
   "metadata": {},
   "outputs": [
    {
     "data": {
      "image/png": "[encoded data removed]",
      "text/plain": [
       "<Figure size 339.007x209.518 with 1 Axes>"
      ]
     },
     "execution_count": 11,
     "metadata": {},
     "output_type": "execute_result"
    }
   ],
   "source": [
    "import matplotlib.pyplot as plt\n",
    "from matplotlib.ticker import AutoMinorLocator\n",
    "from helpers import set_size\n",
    "\n",
    "\n",
    "plt.rcParams.update(plot_config)\n",
    "\n",
    "fig,ax = plt.subplots(figsize=set_size(245))\n",
    "\n",
    "ax.plot(x, U_ocp_LMO, label=\"LMO\")\n",
    "ax.plot(x, U_ocp_LFP, label=\"LFP\")\n",
    "ax.plot(x, U_ocp_NMC, label=\"NMC\", color=\"#d62728\")\n",
    "\n",
    "# ax.xaxis.grid(which='both', linestyle='dashed') #  color='gray',\n",
    "#ax.yaxis.grid(color='gray', linestyle='dashed')\n",
    "\n",
    "ax.set_xlabel(r\"$y \\; \\left[ \\; \\right]$\")\n",
    "ax.set_ylabel(r\"$U_{ocp} \\; \\left[ V \\right]$\")\n",
    "ax.legend(loc='lower left')\n",
    "\n",
    "\n",
    "x_min = 0.0\n",
    "x_max = 1.0\n",
    "dx = x_max - x_min\n",
    "\n",
    "minor_locator = AutoMinorLocator(1)\n",
    "ax.xaxis.set_minor_locator(minor_locator)\n",
    "ax.set_xticks(np.arange(x_min, x_max + 0.2,0.2))\n",
    "ax.set_xlim([x_min, x_max])\n",
    "\n",
    "y_min = 2.8\n",
    "y_max = 4.4\n",
    "dy = y_max - y_min\n",
    "ax.set_yticks(np.arange(y_min, y_max + 0.4, 0.4))\n",
    "ax.set_ylim([y_min, y_max])\n",
    "\n",
    "# This should be called after all axes have been added\n",
    "fig.tight_layout(pad=0)\n",
    "\n",
    "save_plot(plt, 'spme_Uocp(y)')\n",
    "fig"
   ]
  },
  {
   "attachments": {},
   "cell_type": "markdown",
   "metadata": {},
   "source": [
    "## Parameters"
   ]
  },
  {
   "attachments": {},
   "cell_type": "markdown",
   "metadata": {},
   "source": [
    "The values were taken from:\n",
    "```yaml\n",
    "title: Global Sensitivity Analysis of the Single Particle Lithium-Ion Battery Model with Electrolyte\n",
    "authors: Grandjean et al.\n",
    "doi: 10.1109/VPPC46532.2019.8952455\n",
    "```"
   ]
  },
  {
   "cell_type": "code",
   "execution_count": 12,
   "metadata": {},
   "outputs": [],
   "source": [
    "from uocps import U_ocp\n",
    "# fixed values\n",
    "alpha = 0.5\n",
    "kappa = 0.95\n",
    "F_const = 96485.33289\n",
    "gas_const = 8.314472\n",
    "V_max = 4.115\n",
    "V_min = 2.5\n",
    "\n",
    "Temp = 298.15 # K\n",
    "\n",
    "ano = {\n",
    "    \"L\": 22 * 10e-6, # um -> m\n",
    "    \"Rf\": 0, # Ohm/m2\n",
    "    \"Rs\": 11.5 * 10e-6, # um -> m\n",
    "    \"eps_s\": 0.635,\n",
    "    \"eps_e\": 0.295,\n",
    "    \"D\": 0.1 *10e-12, # um2/s -> m2/s\n",
    "    \"k\": 5 *1e-6, \n",
    "    \"c_max\": 31389, # mol/m3\n",
    "    \"c_ini\": 28320, # mol/m3\n",
    "}\n",
    "\n",
    "sep = {\n",
    "    \"L\": 20 * 10e-6, # um -> m\n",
    "    \"eps_e\": 0.44,\n",
    "}\n",
    "\n",
    "cat = {\n",
    "    \"L\": 35 * 10e-6, # um -> m\n",
    "    \"Rf\": 0, # Ohm/m2\n",
    "    \"Rs\": 14.5 * 10e-6, # um -> m\n",
    "    \"eps_s\": 0.476,\n",
    "    \"eps_e\": 0.443,\n",
    "    \"D\": 0.8 *10e-12, # um2/s -> m2/s\n",
    "    \"k\": 7 *1e-6, \n",
    "    \"c_max\": 36292, # mol/m3\n",
    "    \"c_ini\": 3153, # mol/m3\n",
    "}\n",
    "\n",
    "ele = {\n",
    "    \"D\": 278.8 * 10e-12, # um2/s -> m2/s\n",
    "    \"c_ini\": 1000,  # mol/m3\n",
    "    \"b\": 1.5,\n",
    "    \"trans\": 0.363,\n",
    "}\n",
    "\n",
    "ano[\"a\"] = 3*ano[\"eps_s\"] / ano[\"Rs\"]\n",
    "cat[\"a\"] = 3*cat[\"eps_s\"] / cat[\"Rs\"]\n",
    "\n",
    "ano[\"U\"] = lambda c: U_ocp(\"hard_carbon\", c/ano[\"c_max\"], Temp)\n",
    "cat[\"U\"] = lambda c: U_ocp(\"LFP\", c/cat[\"c_max\"], Temp)\n",
    "\n",
    "stack = [ano, sep, cat]\n"
   ]
  },
  {
   "attachments": {},
   "cell_type": "markdown",
   "metadata": {},
   "source": [
    "## Applied Current"
   ]
  },
  {
   "cell_type": "code",
   "execution_count": 13,
   "metadata": {},
   "outputs": [
    {
     "name": "stdout",
     "output_type": "stream",
     "text": [
      "capacity for 18.78125196814786 Ah/m^2\n",
      "charge for 3600.0 s\n",
      "simulation time 5760.0 s\n"
     ]
    }
   ],
   "source": [
    "import numpy as np\n",
    "c_rate = 1\n",
    "t_charge = 1/c_rate * 3600 # h -> s\n",
    "t_rest = 0.5 * 3600 # h -> s\n",
    "capacity = min(ano[\"c_ini\"]*ano[\"L\"]*ano[\"eps_s\"], cat[\"c_ini\"]*cat[\"L\"]*ano[\"eps_s\"]) * F_const # [As] or [C] (both are the same) TODO formula check with Johannes\n",
    "print(f\"capacity for {capacity/3600} Ah/m^2\")\n",
    "i_change = capacity / t_charge\n",
    "t_mod = 0.3 # only slight charge and endcharge\n",
    "t_change = t_charge * t_mod\n",
    "print(f\"charge for {t_charge} s\")\n",
    "t_cycle = t_change + t_rest + t_change + t_rest\n",
    "t_end = 1 * t_cycle\n",
    "print(f\"simulation time {t_end} s\")\n",
    "\n",
    "\n",
    "def i_app(t):\n",
    "    t_rel = t % t_cycle\n",
    "    if t_rel < t_change: # discharge\n",
    "        return i_change # discharge is positive!\n",
    "    elif t_rel < t_change + t_rest: # rest\n",
    "        return 0\n",
    "    elif t_rel < t_change + t_rest + t_change: # charge\n",
    "        return -1.0 * i_change\n",
    "    elif t_rel < t_cycle: # rest\n",
    "        return 0"
   ]
  },
  {
   "attachments": {},
   "cell_type": "markdown",
   "metadata": {},
   "source": [
    "### (Optional) Plot of Applied Current"
   ]
  },
  {
   "cell_type": "code",
   "execution_count": 14,
   "metadata": {},
   "outputs": [
    {
     "data": {
      "image/png": "[encoded data removed]",
      "text/plain": [
       "<Figure size 339.007x209.518 with 1 Axes>"
      ]
     },
     "execution_count": 14,
     "metadata": {},
     "output_type": "execute_result"
    }
   ],
   "source": [
    "import numpy as np\n",
    "\n",
    "ts = np.arange(0, int(t_end), 1)\n",
    "i_apps = np.zeros(len(ts))\n",
    "for i in range(len(ts)):\n",
    "    i_apps[i] = i_app(ts[i])\n",
    "\n",
    "import matplotlib.pyplot as plt\n",
    "from helpers import set_size\n",
    "\n",
    "plt.rcParams.update(plot_config)\n",
    "fig,ax = plt.subplots(figsize=set_size(245))\n",
    "ax.plot(ts, i_apps)\n",
    "\n",
    "ax.set_xlabel(r\"$t \\; \\left[ s \\right]$\")\n",
    "ax.set_ylabel(r\"$I_{app} \\; \\left[ A \\right]$\")\n",
    "\n",
    "\n",
    "ax.set_xlim([np.floor(np.min(ts)/1000)*1000, np.ceil(np.max(ts)/1000)*1000])\n",
    "ax.set_ylim([np.floor(np.min(i_apps)/10)*10, np.ceil(np.max(i_apps)/10)*10])\n",
    "\n",
    "save_plot(plt, 'spme_Iapp(t)')\n",
    "fig"
   ]
  },
  {
   "attachments": {},
   "cell_type": "markdown",
   "metadata": {},
   "source": [
    "## Model"
   ]
  },
  {
   "attachments": {},
   "cell_type": "markdown",
   "metadata": {},
   "source": [
    "This model was taken from:\n",
    "```yaml\n",
    "title: Battery State Estimation for a Single Particle Model With Electrolyte Dynamics\n",
    "authors: Moura et al.\n",
    "doi: 10.1109/TCST.2016.2571663\n",
    "```"
   ]
  },
  {
   "attachments": {},
   "cell_type": "markdown",
   "metadata": {},
   "source": [
    "### Radial Diffusion\n",
    "\n",
    "The equation for the Lithium-transport inside the electrode materials is:\n",
    "$$\\frac{\\partial c_{s}^{\\pm}}{\\partial t}(x,r,t) = \\frac{1}{r^2} \\frac{\\partial}{ \\partial r} \\left[ D_s^\\pm r^2 \\frac{\\partial c_s^\\pm}{\\partial r}(x,r,t)\\right]$$\n",
    "with the boundary conditions:\n",
    "$$\\frac{\\partial c_{s}^{\\pm}}{\\partial r}(x,0,t) = 0$$\n",
    "$$\\frac{\\partial c_{s}^{\\pm}}{\\partial r}(x,R_{s}^{\\pm},t) = -\\frac{1}{ D_s^\\pm} j_{n}^{\\pm}(x,t)$$\n",
    "and\n",
    "$$j_{n}^{\\pm}(t) = \\mp \\frac{I(t)}{F a^{\\pm} L^{\\pm}}$$\n",
    "\n",
    "Under certain assumptions the equations can be simplified to:\n",
    "$$\\frac{\\partial c_{s}^{\\pm}}{\\partial t}(r,t) = \\frac{1}{r^2} \\frac{\\partial}{ \\partial r} \\left[ D_s^\\pm r^2 \\frac{\\partial c_s^\\pm}{\\partial r}(r,t)\\right]$$\n",
    "with the boundary conditions:\n",
    "$$\\frac{\\partial c_{s}^{\\pm}}{\\partial r}(0,t) = 0$$\n",
    "$$\\frac{\\partial c_{s}^{\\pm}}{\\partial r}(R_{s}^{\\pm},t) = -\\frac{1}{D_s^\\pm} j_{n}^{\\pm}(t) = \\pm \\frac{1}{ D_s^\\pm F a^{\\pm} L^{\\pm}} I(t)$$"
   ]
  },
  {
   "attachments": {},
   "cell_type": "markdown",
   "metadata": {},
   "source": [
    "#### Simplification\n",
    "\n",
    "$1/r^2$ is not defined for $r=0$.\n",
    "A workaround is to multiply with $r^2$\n",
    "$$r^2 \\frac{\\partial c_{s}^{\\pm}}{\\partial t}(r,t) =  \\frac{\\partial}{ \\partial r} \\left[D_s^\\pm r^2 \\frac{\\partial c_s^\\pm}{\\partial r}(r,t)\\right]$$\n",
    "\n",
    "Further, to avoid recomputing the matrices for every component, the spacial coordinate can be normalized:\n",
    "\n",
    "$r = y \\; R_s^{\\pm}$ with $y \\in [0,1]$\n",
    "and\n",
    "$\\frac{\\partial}{\\partial r} \\left( \\cdot \\right) \n",
    "= \\frac{1}{R_{s}^{\\pm}} \\frac{\\partial}{\\partial y} \n",
    "\\left( \\cdot \\right).$\n",
    "\n",
    "$$\n",
    "y^2 \\; (R_{s}^{\\pm})^2 \\frac{\\partial c_{s}^{\\pm}}{\\partial t}(y,t) \n",
    "= \\frac{1}{R_{s}^{\\pm}} \\frac{\\partial}{ \\partial y} \n",
    "\\left[\n",
    "    D_s^\\pm\n",
    "    \\frac{y^2 (R_{s}^{\\pm})^2}{R_{s}^{\\pm}} \\frac{\\partial c_s^\\pm}{\\partial y}(y,t)\n",
    "\\right]\n",
    "$$\n",
    "$$\n",
    "y^2 R_{s}^{\\pm} \\frac{\\partial c_{s}^{\\pm}}{\\partial t}(y,t) \n",
    "= \\frac{1}{(R_{s}^{\\pm})^2} \\frac{\\partial}{ \\partial y} \n",
    "\\left[\n",
    "    D_s^\\pm\n",
    "    \\frac{y^2 (R_{s}^{\\pm})^2}{R_{s}^{\\pm}} \\frac{\\partial c_s^\\pm}{\\partial y}(y,t)\n",
    "\\right]\n",
    "$$\n",
    "$$\n",
    "y^2 R_{s}^{\\pm} \\frac{\\partial c_{s}^{\\pm}}{\\partial t}(y,t) \n",
    "= \\frac{\\partial}{ \\partial y} \n",
    "\\left[\n",
    "    D_s^\\pm\n",
    "    \\frac{y^2 (R_{s}^{\\pm})^2}{(R_{s}^{\\pm})^3} \\frac{\\partial c_s^\\pm}{\\partial y}(y,t)\n",
    "\\right]\n",
    "$$\n",
    "$$\n",
    "y^2 R_{s}^{\\pm} \\frac{\\partial c_{s}^{\\pm}}{\\partial t}(y,t) \n",
    "= \\frac{\\partial}{ \\partial y} \n",
    "\\left[\n",
    "    D_s^\\pm\n",
    "    \\frac{y^2}{R_{s}^{\\pm}} \\frac{\\partial c_s^\\pm}{\\partial y}(y,t)\n",
    "\\right]\n",
    "$$\n",
    "and with the boundary conditions:\n",
    "$$\\frac{\\partial c_{s}^{\\pm}}{\\partial y}(0,t) = 0$$\n",
    "$$\\frac{\\partial c_{s}^{\\pm}}{\\partial y}(1,t) = \\pm \\frac{R_{s}^{\\pm}}{ D_s^\\pm F a^{\\pm} L^{\\pm}} I(t)$$\n",
    "\n"
   ]
  },
  {
   "attachments": {},
   "cell_type": "markdown",
   "metadata": {},
   "source": [
    "#### Derive FEM-Formulation\n",
    "\n",
    "multiply with the test function $v$\n",
    "$$\n",
    "y^2 R_{s}^{\\pm} \\frac{\\partial c_{s}^{\\pm}}{\\partial t}(y,t) \\cdot v\n",
    "= \\frac{\\partial}{ \\partial y} \n",
    "\\left[\n",
    "    D_s^\\pm\n",
    "    \\frac{y^2}{R_{s}^{\\pm}} \\frac{\\partial c_s^\\pm}{\\partial y}(y,t)\n",
    "\\right] \\cdot v\n",
    "$$\n",
    "\n",
    "integration by parts:\n",
    "$$\n",
    "\\begin{align*}\n",
    "\\int_0^1\n",
    "y^2 R_{s}^{\\pm} \n",
    "\\frac{\\partial c_{s}^{\\pm}}{\\partial t}(y,t) \\cdot v \n",
    "dy\n",
    "&= \n",
    "\\left[\n",
    "    D_s^\\pm\n",
    "    \\frac{y^2}{R_{s}^{\\pm}} \\frac{\\partial c_s^\\pm}{\\partial y}(y,t) \\cdot v\n",
    "\\right]_{y=0}^{y=1}\n",
    "\\\\\n",
    "&-\n",
    "\\int_0^1\n",
    "    D_s^\\pm\n",
    "    \\frac{y^2}{R_{s}^{\\pm}} \\frac{\\partial c_s^\\pm}{\\partial y}(y,t)\n",
    "    \\cdot \\frac{\\partial v}{ \\partial y}\n",
    "dy\n",
    "\\end{align*}\n",
    "$$\n",
    "\n",
    "insert boundary condition:\n",
    "$$\n",
    "\\begin{align*}\n",
    "\\int_0^1\n",
    "y^2 R_{s}^{\\pm} \n",
    "\\frac{\\partial c_{s}^{\\pm}}{\\partial t}(y,t) \\cdot v\n",
    "dy\n",
    "&= \\pm\n",
    "    D_s^\\pm\n",
    "    \\frac{1^2}{R_{s}^{\\pm}} \n",
    "    \\frac{R_{s}^{\\pm}}{ D_s^\\pm F a^{\\pm} L^{\\pm}} I(t) \\cdot v(y=1)\n",
    "\\\\\n",
    "&-\n",
    "\\int_0^1\n",
    "    D_s^\\pm\n",
    "    \\frac{y^2}{R_{s}^{\\pm}} \\frac{\\partial c_s^\\pm}{\\partial y}(y,t)\n",
    "    \\cdot \\frac{\\partial v}{ \\partial y}\n",
    "dy\n",
    "\\end{align*}\n",
    "$$\n",
    "\n",
    "$$\n",
    "\\begin{align*}\n",
    "\\int_0^1\n",
    "y^2 R_{s}^{\\pm} \n",
    "\\frac{\\partial c_{s}^{\\pm}}{\\partial t}(y,t) \\cdot v\n",
    "dy\n",
    "&= \\pm\n",
    "    \\frac{1}{F a^{\\pm} L^{\\pm}} I(t) \\cdot v(y=1)\n",
    "\\\\\n",
    "&-\n",
    "\\int_0^1\n",
    "    D_s^\\pm\n",
    "    \\frac{y^2}{R_{s}^{\\pm}} \\frac{\\partial c_s^\\pm}{\\partial y}(y,t)\n",
    "    \\cdot \\frac{\\partial v}{ \\partial y}\n",
    "dy\n",
    "\\end{align*}\n",
    "$$\n",
    "\n",
    "Some rearranging and all integrals are material independent:\n",
    "$$\n",
    "\\begin{align*}\n",
    "R_{s}^{\\pm} \n",
    "\\int_0^1\n",
    "y^2\n",
    "\\frac{\\partial c_{s}^{\\pm}}{\\partial t}(y,t) \\cdot v\n",
    "dy\n",
    "&= \\pm\n",
    "    \\frac{1}{F a^{\\pm} L^{\\pm}} I(t) \\cdot v(y=1)\n",
    "\\\\\n",
    "&-\n",
    "\\frac{D_s^\\pm}{R_{s}^{\\pm}}\n",
    "\\int_0^1\n",
    "    y^2 \\frac{\\partial c_s^\\pm}{\\partial y}(y,t)\n",
    "    \\cdot \\frac{\\partial v}{ \\partial y}\n",
    "dy\n",
    "\\end{align*}\n",
    "$$"
   ]
  },
  {
   "attachments": {},
   "cell_type": "markdown",
   "metadata": {},
   "source": [
    "#### Implementation"
   ]
  },
  {
   "cell_type": "code",
   "execution_count": 15,
   "metadata": {},
   "outputs": [],
   "source": [
    "from skfem import MeshLine, Basis, ElementLineP1, BilinearForm, LinearForm\n",
    "from skfem.helpers import dot, grad\n",
    "import numpy as np\n",
    "\n",
    "n_s = 5 + 1 # nodes in solid\n",
    "\n",
    "space = np.linspace(0, 1, n_s)\n",
    "# particle mesh\n",
    "mesh_s = MeshLine(space).with_boundaries(\n",
    "    {\"inner\": lambda xi: xi[0] == 0, \"surface\": lambda xi: xi[0] == 1.0}\n",
    ")\n",
    "\n",
    "basis_s = Basis(mesh_s, ElementLineP1())  # ElementLineHermite\n",
    "basis_s_surf = basis_s.boundary(\"surface\")\n",
    "\n",
    "@BilinearForm\n",
    "def dt_r(dc, v, w):\n",
    "    r = w.x[0]\n",
    "    return r**2 * dc * v #  * r_0**2/(2D)\n",
    "\n",
    "@BilinearForm\n",
    "def diff(c, v, w):\n",
    "    r = w.x[0]\n",
    "    return r**2 * dot(grad(c), grad(v))\n",
    "\n",
    "@LinearForm\n",
    "def bc_n(v, w):\n",
    "    return dot(w.n, v)\n",
    "\n",
    "Mass_r = dt_r.assemble(basis_s)\n",
    "Diff_r = diff.assemble(basis_s)\n",
    "BC_r = bc_n.assemble(basis_s_surf)\n",
    "\n",
    "def get_surf(conc) -> float:\n",
    "    return conc[basis_s.get_dofs(\"surface\")][0]"
   ]
  },
  {
   "attachments": {},
   "cell_type": "markdown",
   "metadata": {},
   "source": [
    "#### Form of Equations\n",
    "\n",
    "$$\n",
    "\\begin{align*}\n",
    "R_{s}^{\\pm} \n",
    "M.\\frac{\\partial c}{\\partial t}\n",
    "&= \\pm\n",
    "    \\frac{1}{F a^{\\pm} L^{\\pm}} I(t) \\cdot bc\n",
    "&-\n",
    "\\frac{D_s^\\pm}{R_{s}^{\\pm}}\n",
    "D.c\n",
    "\\end{align*}\n",
    "$$\n",
    "\n",
    "$$\n",
    "\\begin{align*}\n",
    "\\frac{\\partial c}{\\partial t}\n",
    "= M^{-1}.\n",
    "\\left(\n",
    "\\pm \\frac{1}{F a^{\\pm} L^{\\pm}} I(t) \\cdot bc\n",
    "-\n",
    "\\frac{D_s^\\pm}{R_{s}^{\\pm}}\n",
    "D.c\n",
    "\\right)\n",
    "/R_{s}^{\\pm} \n",
    "\\end{align*}\n",
    "$$\n",
    "\n",
    "\n",
    "$$\n",
    "\\begin{align*}\n",
    "0\n",
    "&= \\pm\n",
    "    \\frac{1}{F a^{\\pm} L^{\\pm}} I(t) \\cdot bc\n",
    "&-\n",
    "\\frac{D_s^\\pm}{R_{s}^{\\pm}}\n",
    "D.c\n",
    "- R_{s}^{\\pm} \n",
    "M.\\frac{\\partial c}{\\partial t}\n",
    "\\end{align*}\n",
    "$$\n"
   ]
  },
  {
   "cell_type": "code",
   "execution_count": 16,
   "metadata": {},
   "outputs": [],
   "source": [
    "Mass_r_inv = np.linalg.pinv(Mass_r.toarray())\n",
    "\n",
    "def eq_radial_diffusion(u: np.ndarray, t: float, \n",
    "                        stack: list[dict], sizes:tuple[int], \n",
    "                        offset:int=0, du: np.ndarray = None\n",
    "                      ) -> np.ndarray:\n",
    "  rests = np.zeros(0)\n",
    "  start = offset\n",
    "  for c in range(2):\n",
    "    i = int(2*c-1)\n",
    "    length = start + sizes[c]\n",
    "    c_s = u[start:length]\n",
    "\n",
    "    # print(f\"{i}:{len(c_s)}/{length}\")\n",
    "\n",
    "    com = stack[i+1]\n",
    "    j = (i * i_app(t) )/(F_const * com[\"a\"] * com[\"L\"])\n",
    "    rest = ( \n",
    "      - com[\"D\"]/com[\"Rs\"] * Diff_r.dot(c_s)\n",
    "      + j * BC_r\n",
    "    )\n",
    "    if du is None:\n",
    "      rest = np.matmul(Mass_r_inv, rest) / com[\"Rs\"]\n",
    "    else:\n",
    "      dc_s = du[start:length]\n",
    "      rest = rest - com[\"Rs\"] * Mass_r.dot(dc_s)\n",
    "    rests = np.concatenate((rests,rest))\n",
    "    start = length\n",
    "\n",
    "  # print(f\"{len(u)}/{len(rests)}\")\n",
    "  return rests"
   ]
  },
  {
   "attachments": {},
   "cell_type": "markdown",
   "metadata": {},
   "source": [
    "#### (Optional) Radial Concentration Changes"
   ]
  },
  {
   "cell_type": "code",
   "execution_count": 17,
   "metadata": {},
   "outputs": [],
   "source": [
    "\"\"\"\n",
    "anode will be discharged\n",
    "cathode will be charged\n",
    "\"\"\"\n",
    "\n",
    "# intial values\n",
    "def ini_ones(x):\n",
    "    return np.ones((x.shape[1], x.shape[2]))\n",
    "\n",
    "if not latex_plots and optional_content[\"radial_diffusion\"]:\n",
    "    import numpy as np\n",
    "    from scipy.integrate import solve_ivp\n",
    "\n",
    "    tspan = [0, t_end]\n",
    "    u0_ano = basis_s.project(ini_ones) * ano[\"c_ini\"]\n",
    "    u0_cat = basis_s.project(ini_ones) * cat[\"c_ini\"]\n",
    "    u0 = np.concatenate((u0_ano,u0_cat))\n",
    "    sizes = [len(u0_ano), len(u0_cat)]\n",
    "\n",
    "    def spme_radial(t,u):\n",
    "        radial = eq_radial_diffusion(u, t, stack, sizes)\n",
    "        return radial\n",
    "    \n",
    "    sol_radial = solve_ivp(\n",
    "        spme_radial,\n",
    "        tspan,\n",
    "        u0,\n",
    "        method=\"Radau\",  # Radau, BDF, LSODA\n",
    "        # atol=1e-6,\n",
    "        dense_output=True,\n",
    "    )"
   ]
  },
  {
   "cell_type": "code",
   "execution_count": 18,
   "metadata": {},
   "outputs": [],
   "source": [
    "import matplotlib.pyplot as plt\n",
    "from helpers import set_size, sort_u_by_x\n",
    "\n",
    "plt.rcParams.update(plot_config)\n",
    "\n",
    "if not latex_plots and optional_content[\"radial_diffusion\"]:\n",
    "    ts = np.linspace(0, t_end, 1000)\n",
    "    c_sols = sol_radial.sol(ts).T\n",
    "    c_anos = []\n",
    "    c_cats = []\n",
    "    i_apps = []\n",
    "    xs = []\n",
    "    for i in range(len(ts)):\n",
    "        c_sol = c_sols[i]\n",
    "        xs,c_ano = sort_u_by_x(basis_s, c_sol[:sizes[0]])\n",
    "        _ ,c_cat = sort_u_by_x(basis_s, c_sol[sizes[0]:])\n",
    "        c_anos.append(c_ano)\n",
    "        c_cats.append(c_cat)\n",
    "        i_apps.append(i_app(ts[i]))\n",
    "\n",
    "    fig,ax = plt.subplots(1,2, figsize=set_size(490))\n",
    "\n",
    "    line_ano = ax[0].plot(xs, c_anos[0], label=r\"$c^-}$\")[0]\n",
    "    line_cat = ax[0].plot(xs, c_cats[0], label=r\"$c^+$\")[0]\n",
    "    scat_i = ax[1].scatter(ts[0], i_apps[0])\n",
    "\n",
    "    # Concentrations\n",
    "    img = ax[0]\n",
    "    img.xaxis.grid(which='both', color='gray', linestyle='dashed')\n",
    "    img.yaxis.grid(color='gray', linestyle='dashed')\n",
    "\n",
    "    img.set_xlabel(r\"$x \\; \\left[ \\; \\right]$\")\n",
    "    img.set_ylabel(r\"$c_{Li^+} \\; \\left[ \\frac{mol}{m^3} \\right]$\")\n",
    "    img.set(xlim=[0, 1], ylim=[np.floor(0.0*ano[\"c_max\"]/5000)*5000, np.ceil(1.01*cat[\"c_max\"]/5000)*5000])\n",
    "\n",
    "    # applied current\n",
    "    img = ax[1]\n",
    "    img.plot(ts, i_apps)\n",
    "    img.xaxis.grid(which='both', color='gray', linestyle='dashed')\n",
    "    img.yaxis.grid(color='gray', linestyle='dashed')\n",
    "\n",
    "    img.set_xlabel(r\"$ts \\; \\left[ s \\right]$\")\n",
    "    img.set_ylabel(r\"$I_{app} \\; \\left[ A \\right]$\")\n",
    "    img.set_xlim([np.floor(np.min(ts)/1000)*1000, np.ceil(np.max(ts)/1000)*1000])\n",
    "    img.set_ylim([np.floor(np.min(i_apps)/10)*10, np.ceil(np.max(i_apps)/10)*10])\n",
    "\n",
    "    fig.tight_layout(pad=0)"
   ]
  },
  {
   "cell_type": "code",
   "execution_count": 19,
   "metadata": {},
   "outputs": [],
   "source": [
    "if not latex_plots and optional_content[\"radial_diffusion\"]:\n",
    "    time_scale = 4\n",
    "    def update(frame):\n",
    "        frame_id = int(frame * time_scale)\n",
    "        t = ts[frame_id]\n",
    "        line_ano.set_ydata(c_anos[frame_id])\n",
    "        line_cat.set_ydata(c_cats[frame_id])\n",
    "        scat_i.set_offsets([ts[frame_id], i_apps[frame_id]])\n",
    "        return line_ano, line_cat,scat_i\n",
    "\n",
    "    import matplotlib.animation as animation\n",
    "    ani = animation.FuncAnimation(fig=fig, func=update, frames=int(len(ts)/time_scale), interval=30)\n",
    "    ani.save(filename=result_path / \"spme_radial.mp4\", writer=\"ffmpeg\")"
   ]
  },
  {
   "cell_type": "code",
   "execution_count": 20,
   "metadata": {},
   "outputs": [
    {
     "data": {
      "text/html": [
       "<video src=\"/home/willi/Documents/devel/battery/sol_spme/spme_radial.mp4\" controls  >\n",
       "      Your browser does not support the <code>video</code> element.\n",
       "    </video>"
      ],
      "text/plain": [
       "<IPython.core.display.Video object>"
      ]
     },
     "execution_count": 20,
     "metadata": {},
     "output_type": "execute_result"
    }
   ],
   "source": [
    "from IPython.display import Video\n",
    "Video(result_path /'spme_radial.mp4')"
   ]
  },
  {
   "attachments": {},
   "cell_type": "markdown",
   "metadata": {},
   "source": [
    "### Spacial Transportation\n",
    "\n",
    "The transportation of $\\mathrm{Li^+}$ along the battery thickness can be described as:\n",
    "$$\\frac{\\partial c_{e}^{j}}{\\partial t} = \\frac{\\partial}{\\partial x}\\left[\\frac{D_{e}^{eff}(c_e^j)}{\\varepsilon_e^j} \\frac{\\partial c_e^j}{\\partial x} (x,t)\\right]-j\\frac{1-t_c^0}{\\varepsilon_e^j F L^j} I(t)$$\n",
    "and $j \\in \\{-1,0,1\\}$\n",
    "- $-1$: Anode\n",
    "- $0$: Separator\n",
    "- $1$: Kathode\n",
    "\n",
    "In addition, the boundary conditions for this problem are: \n",
    "$$\\frac{\\partial c_e^-}{\\partial x} (0^-,t) = \\frac{\\partial c_e^+}{\\partial x} (0^+,t) = 0$$\n",
    "$$D_e^{-,eff}\\frac{\\partial c_e^-}{\\partial x} (L^-,t) = D_e^{sep,eff} \\frac{\\partial c_e^{sep}}{\\partial x} (0^{sep},t)$$\n",
    "$$D_e^{sep,eff}\\frac{\\partial c_e^{sep}}{\\partial x} (L^{sep},t) = D_e^{+,eff} \\frac{\\partial c_e^{+}}{\\partial x} (L^{+},t)$$\n",
    "$$c_e(L^{-},t) = c_e(0^{sep}, t)$$\n",
    "$$c_e(L^{sep},t) = c_e(L^{+}, t)$$"
   ]
  },
  {
   "attachments": {},
   "cell_type": "markdown",
   "metadata": {},
   "source": [
    "#### FEM wit normalized x-Coordinate\n",
    "\n",
    "$x^{j} = y * L^{j}$ with $y \\in [0,1]$\n",
    "$$\\frac{\\partial}{\\partial x} \\left( \\cdot \\right) = \\frac{1}{L^{j}} \\frac{\\partial}{\\partial y} \\left( \\cdot \\right) $$\n",
    "\n",
    "$$\\frac{\\partial c_{e}^{j}}{\\partial t} = \\frac{1}{L^j} \\frac{\\partial}{\\partial y}\\left[\\frac{D_{e}^{eff}(c_e^j)}{\\varepsilon_e^j} \\frac{1}{L^j}\\frac{\\partial c_e^j}{\\partial y} (y,t)\\right]-j\\frac{1-t_c^0}{\\varepsilon_e^j F L^j} I(t)$$\n",
    "\n",
    "$$\n",
    "\\int_{j+1}^{j+2} \\frac{\\partial c}{\\partial t} \\cdot v dy = \\frac{D_{e}^{eff}}{\\varepsilon_e^j {L^j}^2}  \\left. \\frac{\\partial c}{\\partial y}  \\cdot \\frac{\\partial v}{\\partial y}  \\right|_{j+1}^{j+2}\n",
    "- \\frac{D_{e}^{eff}}{\\varepsilon_e^j {L^j}^2} \\int_{j+1}^{j+2} \\frac{\\partial c}{\\partial y}  \\cdot \\frac{\\partial v}{\\partial y}  dy \n",
    "-j\\frac{1-t_c^0}{\\varepsilon_e^j F L^j} I(t) \\int_{j+1}^{j+2} v dy$$"
   ]
  },
  {
   "cell_type": "code",
   "execution_count": 21,
   "metadata": {},
   "outputs": [],
   "source": [
    "from skfem import MeshLine, Basis, ElementLineP2, BilinearForm, LinearForm\n",
    "from skfem.helpers import dot, grad\n",
    "import numpy as np\n",
    "\n",
    "n_x = 30 + 1 # nodes in x-Direction\n",
    "\n",
    "space = np.linspace(0, 3, n_x)\n",
    "# particle mesh\n",
    "mesh_x = (MeshLine(space)\n",
    "          .with_subdomains(\n",
    "            {\n",
    "                \"ano\": lambda xi: xi[0] < 1.0,\n",
    "                \"cat\": lambda xi: 2.0 < xi[0],\n",
    "                \"sep\": lambda xi: ((1.0 <= xi[0]) & (xi[0] < 2.0))\n",
    "            }\n",
    "          )\n",
    "          .with_boundaries(\n",
    "            {\n",
    "                \"left\": lambda xi: xi[0] == 0, \n",
    "                \"right\": lambda xi: xi[0] == 3.0\n",
    "            }\n",
    "          )\n",
    "        )\n",
    "\n",
    "basis_x = Basis(mesh_x, ElementLineP2())  # ElementLineHermite\n",
    "basis_x_ano = Basis(mesh_x, basis_x.elem, elements=mesh_x.subdomains['ano'])\n",
    "basis_x_cat = Basis(mesh_x, basis_x.elem, elements=mesh_x.subdomains['cat'])\n",
    "basis_x_sep = Basis(mesh_x, basis_x.elem, elements=mesh_x.subdomains['sep'])\n",
    "\n",
    "@BilinearForm\n",
    "def dt_x(dc, v, w):\n",
    "    return dc * v #  * r_0**2/(2D)\n",
    "\n",
    "@BilinearForm\n",
    "def diff(c, v, w):\n",
    "    return dot(grad(c), grad(v))\n",
    "\n",
    "@LinearForm\n",
    "def current(v, w):\n",
    "    return v\n",
    "\n",
    "Mass_x = dt_x.assemble(basis_x)\n",
    "\n",
    "Diff_x_ano = ele[\"D\"] * np.power(ano[\"eps_e\"], ele[\"b\"]) / ano[\"eps_e\"] / np.power(ano[\"L\"],2) * diff.assemble(basis_x_ano)\n",
    "Diff_x_cat = ele[\"D\"] * np.power(cat[\"eps_e\"], ele[\"b\"]) / cat[\"eps_e\"] / np.power(cat[\"L\"],2) * diff.assemble(basis_x_cat)\n",
    "Diff_x_sep = ele[\"D\"] * np.power(sep[\"eps_e\"], ele[\"b\"]) / sep[\"eps_e\"] / np.power(sep[\"L\"],2) * diff.assemble(basis_x_sep)\n",
    "Diff_x = Diff_x_ano + Diff_x_sep + Diff_x_cat\n",
    "\n",
    "i_ano = (1 - ele[\"trans\"]) / (ano[\"eps_e\"] * F_const * ano[\"L\"]) * current.assemble(basis_x_ano)\n",
    "i_cat = - 1 * (1 - ele[\"trans\"]) / (cat[\"eps_e\"] * F_const * cat[\"L\"]) * current.assemble(basis_x_cat)\n",
    "curr = i_ano + i_cat\n",
    "\n",
    "def get_left(conc) -> float:\n",
    "    return conc[basis_x.get_dofs(\"left\")][0]\n",
    "\n",
    "def get_right(conc) -> float:\n",
    "    return conc[basis_x.get_dofs(\"right\")][0]"
   ]
  },
  {
   "attachments": {},
   "cell_type": "markdown",
   "metadata": {},
   "source": [
    "#### FEM"
   ]
  },
  {
   "cell_type": "code",
   "execution_count": 22,
   "metadata": {},
   "outputs": [],
   "source": [
    "from skfem import MeshLine, Basis, ElementLineP2, BilinearForm, LinearForm\n",
    "from skfem.helpers import dot, grad\n",
    "import numpy as np\n",
    "\n",
    "n_x = 30 + 1 # nodes in x-Direction\n",
    "\n",
    "l_ano = ano[\"L\"]\n",
    "l_sep = sep[\"L\"]\n",
    "l_cat = cat[\"L\"]\n",
    "l_sum = l_ano + l_sep + l_cat\n",
    "space = np.linspace(0, l_sum, n_x)\n",
    "# particle mesh\n",
    "mesh_x = (MeshLine(space)\n",
    "          .with_subdomains(\n",
    "            {\n",
    "                \"ano\": lambda xi: xi[0] < l_ano,\n",
    "                \"cat\": lambda xi: (l_ano + l_sep) < xi[0],\n",
    "                \"sep\": lambda xi: ((l_ano < xi[0]) & (xi[0] < (l_ano + l_sep)))\n",
    "            }\n",
    "          )\n",
    "          .with_boundaries(\n",
    "            {\n",
    "                \"left\": lambda xi: xi[0] == 0, \n",
    "                \"right\": lambda xi: xi[0] == l_sum\n",
    "            }\n",
    "          )\n",
    "        )\n",
    "\n",
    "basis_x = Basis(mesh_x, ElementLineP2())  # ElementLineHermite\n",
    "basis_x_ano = Basis(mesh_x, basis_x.elem, elements=mesh_x.subdomains['ano'])\n",
    "basis_x_cat = Basis(mesh_x, basis_x.elem, elements=mesh_x.subdomains['cat'])\n",
    "basis_x_sep = Basis(mesh_x, basis_x.elem, elements=mesh_x.subdomains['sep'])\n",
    "\n",
    "@BilinearForm\n",
    "def dt_x(dc, v, w):\n",
    "    return dc * v\n",
    "\n",
    "@BilinearForm\n",
    "def diff(c, v, w):\n",
    "    return dot(grad(c), grad(v))\n",
    "\n",
    "@LinearForm\n",
    "def current(v, w):\n",
    "    return v\n",
    "\n",
    "Mass_x = dt_x.assemble(basis_x)\n",
    "\n",
    "Diff_x_ano = ele[\"D\"] * np.power(ano[\"eps_e\"], ele[\"b\"]) / ano[\"eps_e\"] * diff.assemble(basis_x_ano)\n",
    "Diff_x_cat = ele[\"D\"] * np.power(cat[\"eps_e\"], ele[\"b\"]) / cat[\"eps_e\"] * diff.assemble(basis_x_cat)\n",
    "Diff_x_sep = ele[\"D\"] * np.power(sep[\"eps_e\"], ele[\"b\"]) / sep[\"eps_e\"] * diff.assemble(basis_x_sep)\n",
    "Diff_x = Diff_x_ano + Diff_x_sep + Diff_x_cat\n",
    "\n",
    "i_ano = - 1 * (1 - ele[\"trans\"]) / (ano[\"eps_e\"] * F_const * ano[\"L\"]) * current.assemble(basis_x_ano)\n",
    "i_cat =       (1 - ele[\"trans\"]) / (cat[\"eps_e\"] * F_const * cat[\"L\"]) * current.assemble(basis_x_cat)\n",
    "curr = i_ano + i_cat\n",
    "\n",
    "def get_left(conc) -> float:\n",
    "    return conc[basis_x.get_dofs(\"left\")][0]\n",
    "\n",
    "def get_right(conc) -> float:\n",
    "    return conc[basis_x.get_dofs(\"right\")][0]"
   ]
  },
  {
   "attachments": {},
   "cell_type": "markdown",
   "metadata": {},
   "source": [
    "#### Form of the Equation"
   ]
  },
  {
   "cell_type": "code",
   "execution_count": 23,
   "metadata": {},
   "outputs": [],
   "source": [
    "Mass_x_inv = np.linalg.pinv(Mass_x.toarray())\n",
    "def eq_spacial_transportation(u: np.ndarray, t:float, \n",
    "                              size:int=-1, offset:int=0, \n",
    "                              du: np.ndarray = None\n",
    "                            ) -> np.ndarray:\n",
    "  if size == -1:\n",
    "    c_e = u[offset:]\n",
    "  else:\n",
    "    c_e = u[offset:(offset+size)]\n",
    "  rest =  -Diff_x.dot(c_e) - curr * i_app(t)\n",
    "  if du is None:\n",
    "    rest = np.matmul(Mass_x_inv, rest)\n",
    "  else:\n",
    "    dc_e = du[offset:]\n",
    "    rest = rest - Mass_x.dot(dc_e)\n",
    "  return rest"
   ]
  },
  {
   "attachments": {},
   "cell_type": "markdown",
   "metadata": {},
   "source": [
    "#### (Optional) Spacial Concentration Change"
   ]
  },
  {
   "cell_type": "code",
   "execution_count": 24,
   "metadata": {},
   "outputs": [],
   "source": [
    "\"\"\"\n",
    "anode will be discharged\n",
    "cathode will be charged\n",
    "\"\"\"\n",
    "\n",
    "# intial values\n",
    "def ini_ones(x):\n",
    "    return np.ones((x.shape[1], x.shape[2]))\n",
    "\n",
    "if optional_content[\"spacial_diffusion\"]:\n",
    "    import numpy as np\n",
    "    from scipy.integrate import solve_ivp\n",
    "\n",
    "    tspan = [0, t_end]\n",
    "    u0_e = basis_x.project(ini_ones) * ele[\"c_ini\"]\n",
    "    u0 = u0_e\n",
    "\n",
    "    def spme_spacial(t,u):\n",
    "        spacial = eq_spacial_transportation(u, t)\n",
    "        return spacial\n",
    "    \n",
    "    sol_spacial = solve_ivp(\n",
    "        spme_spacial,\n",
    "        tspan,\n",
    "        u0,\n",
    "        method=\"Radau\",  # Radau, BDF, LSODA\n",
    "        # atol=1e-6,\n",
    "        max_step=10.0,\n",
    "        dense_output=True,\n",
    "    )"
   ]
  },
  {
   "cell_type": "code",
   "execution_count": 25,
   "metadata": {},
   "outputs": [],
   "source": [
    "from helpers import sort_u_by_x\n",
    "\n",
    "if optional_content[\"spacial_diffusion\"]:\n",
    "    ts = np.linspace(0, t_end, 1000)\n",
    "    c_sols = sol_spacial.sol(ts).T\n",
    "    c_es = []\n",
    "    c_eanos = []\n",
    "    c_ecats = []\n",
    "    i_apps = []\n",
    "    xs = []\n",
    "    for i in range(len(ts)):\n",
    "        xs,c_e = sort_u_by_x(basis_x, c_sols[i])\n",
    "        c_es.append(c_e)\n",
    "\n",
    "        c_eanos.append(c_e[0])\n",
    "        c_ecats.append(c_e[-1])\n",
    "        \n",
    "        i_apps.append(i_app(ts[i]))\n"
   ]
  },
  {
   "cell_type": "code",
   "execution_count": 26,
   "metadata": {},
   "outputs": [],
   "source": [
    "import matplotlib.pyplot as plt\n",
    "from helpers import set_size\n",
    "\n",
    "plt.rcParams.update(plot_config)\n",
    "\n",
    "if optional_content[\"spacial_diffusion\"]:\n",
    "    fig,ax = plt.subplots(2,1, figsize=set_size(490))\n",
    "\n",
    "    ax[0].plot(ts, c_eanos, label=r\"$c_{cathode}$\")\n",
    "    ax[0].plot(ts, c_ecats, label=r\"$c_{anode}$\")\n",
    "\n",
    "    # electrolyte concentrations at cathode and anode boundary\n",
    "    img = ax[0]\n",
    "    img.set_xlim([np.floor(np.min(ts)/1000)*1000, np.ceil(np.max(ts)/1000)*1000])\n",
    "\n",
    "    img.set_xlabel(r\"$t \\; \\left[ s \\right]$\")\n",
    "    img.set_ylabel(r\"$c_{Li^+} \\; \\left[ \\frac{mol}{m^3} \\right]$\")\n",
    "\n",
    "    # applied current over time\n",
    "    img = ax[1]\n",
    "    img.plot(ts, i_apps)\n",
    "    img.set_xlim([np.floor(np.min(ts)/1000)*1000, np.ceil(np.max(ts)/1000)*1000])\n",
    "    img.set_ylim([np.floor(np.min(i_apps)/10)*10, np.ceil(np.max(i_apps)/10)*10])\n",
    "\n",
    "    img.set_xlabel(r\"$t \\; \\left[ s \\right]$\")\n",
    "    img.set_ylabel(r\"$I_{app} \\; \\left[ A \\right]$\")\n",
    "\n",
    "    fig.tight_layout(pad=0)\n",
    "\n",
    "    save_plot(plt, 'spme_c(t)&Iapp(t)')\n",
    "    fig"
   ]
  },
  {
   "cell_type": "code",
   "execution_count": 27,
   "metadata": {},
   "outputs": [],
   "source": [
    "import matplotlib.pyplot as plt\n",
    "from helpers import set_size\n",
    "import numpy as np\n",
    "\n",
    "plt.rcParams.update(plot_config)\n",
    "#plt.subplots_adjust(bottom=0.1, left=1.0, right=0.8, top=0.9)\n",
    "\n",
    "if not latex_plots and optional_content[\"spacial_diffusion\"]:\n",
    "    fig,ax = plt.subplots(1,2, figsize=set_size(490))\n",
    "\n",
    "    line_ce = ax[0].plot(xs, c_es[0], label=r\"$c_e$\")[0]\n",
    "    scat_i = ax[1].scatter(ts[0], i_apps[0])\n",
    "\n",
    "    # Concentrations\n",
    "    img = ax[0]\n",
    "\n",
    "    img.set_xlabel(r\"$x \\; \\left[ mm \\right]$\")\n",
    "    img.set_ylabel(r\"$c_{Li^+} \\; \\left[ \\frac{mol}{m^3} \\right]$\")\n",
    "    xlocs = np.array([stack[0][\"L\"], stack[0][\"L\"] + stack[1][\"L\"]])\n",
    "    img.set_xticks(xlocs, np.round(xlocs*1e3,2))\n",
    "    img.set(xlim=[0, max(xs)], ylim=[0.5*ele[\"c_ini\"], 1.5*ele[\"c_ini\"]])\n",
    "\n",
    "    # Anode Concentration\n",
    "    img = ax[1]\n",
    "    img.plot(ts, i_apps)\n",
    "    img.set_xlim([np.floor(np.min(ts)/1000)*1000, np.ceil(np.max(ts)/1000)*1000])\n",
    "    img.set_ylim([np.floor(np.min(i_apps)/10)*10, np.ceil(np.max(i_apps)/10)*10])\n",
    "\n",
    "    img.set_xlabel(r\"$t \\; \\left[ s \\right]$\")\n",
    "    img.set_ylabel(r\"$I_{app} \\; \\left[ A \\right]$\")\n",
    "\n",
    "    fig.tight_layout(pad=0)"
   ]
  },
  {
   "cell_type": "code",
   "execution_count": 28,
   "metadata": {},
   "outputs": [],
   "source": [
    "if not latex_plots and optional_content[\"spacial_diffusion\"]:\n",
    "    time_scale = 4\n",
    "    def update(frame):\n",
    "        frame_id = int(frame * time_scale)\n",
    "        t = ts[frame_id]\n",
    "        line_ce.set_ydata(c_es[frame_id])\n",
    "        scat_i.set_offsets([ts[frame_id], i_apps[frame_id]])\n",
    "        return line_ce,scat_i\n",
    "\n",
    "    import matplotlib.animation as animation\n",
    "    ani = animation.FuncAnimation(fig=fig, func=update, frames=int(len(ts)/time_scale), interval=30)\n",
    "    ani.save(filename=result_path / \"spme_spacial.mp4\", writer=\"ffmpeg\")"
   ]
  },
  {
   "cell_type": "code",
   "execution_count": 29,
   "metadata": {},
   "outputs": [
    {
     "data": {
      "text/html": [
       "<video src=\"/home/willi/Documents/devel/battery/sol_spme/spme_spacial.mp4\" controls  >\n",
       "      Your browser does not support the <code>video</code> element.\n",
       "    </video>"
      ],
      "text/plain": [
       "<IPython.core.display.Video object>"
      ]
     },
     "execution_count": 29,
     "metadata": {},
     "output_type": "execute_result"
    }
   ],
   "source": [
    "from IPython.display import Video\n",
    "Video(result_path / 'spme_spacial.mp4')"
   ]
  },
  {
   "attachments": {},
   "cell_type": "markdown",
   "metadata": {},
   "source": [
    "### Helpers"
   ]
  },
  {
   "cell_type": "code",
   "execution_count": 30,
   "metadata": {},
   "outputs": [],
   "source": [
    "def calc_helpers(c_surfs:list[float], c_es:list[np.ndarray], \n",
    "                 stack: list[dict], t:float\n",
    "                ) -> np.ndarray:\n",
    "  rests = np.zeros(0)\n",
    "  for c in range(2):\n",
    "    i = int(2*c-1)\n",
    "    com = stack[i+1]\n",
    "    com[\"j\"] = -1*i*i_app(t)/(F_const * com[\"a\"] * com[\"L\"])\n",
    "    com[\"i0\"] = com[\"k\"] * np.power(c_surfs[c], alpha) * np.power(c_es[c] * (com[\"c_max\"] - c_surfs[c]), alpha)\n",
    "    com[\"i0_avg\"] = np.mean(com[\"i0\"])\n",
    "    com[\"eta\"] = (gas_const * Temp)/ (alpha*F_const) * np.arcsinh((-1*i*i_app(t))/(2*com[\"a\"]*com[\"L\"]*com[\"i0_avg\"]))\n",
    "  return rests"
   ]
  },
  {
   "attachments": {},
   "cell_type": "markdown",
   "metadata": {},
   "source": [
    "### Voltage"
   ]
  },
  {
   "cell_type": "code",
   "execution_count": 31,
   "metadata": {},
   "outputs": [],
   "source": [
    "def get_voltage(c_surfs:list[float], c_e: np.ndarray, stack: list[dict], t:float)-> float:\n",
    "    com_a = stack[0]\n",
    "    com_s = stack[1]\n",
    "    com_c = stack[2]\n",
    "    return (\n",
    "        com_c[\"eta\"] - com_a[\"eta\"]\n",
    "        + com_c[\"U\"](c_surfs[1]) - com_a[\"U\"](c_surfs[0]) \n",
    "        - ( com_c[\"Rf\"]/(com_c[\"a\"] * com_c[\"L\"]) + com_a[\"Rf\"]/(com_a[\"a\"] * com_a[\"L\"])) * i_app(t)\n",
    "        + (com_a[\"L\"] + 2*com_s[\"L\"] + com_a[\"L\"]) / (2*kappa) * i_app(t)\n",
    "        + 2 * gas_const * Temp / F_const * (1-ele[\"trans\"]) * (np.log(get_right(c_e)) - np.log(get_left(c_e)))\n",
    "            )"
   ]
  },
  {
   "attachments": {},
   "cell_type": "markdown",
   "metadata": {},
   "source": [
    "### Total SP-Model"
   ]
  },
  {
   "cell_type": "code",
   "execution_count": 32,
   "metadata": {},
   "outputs": [],
   "source": [
    "import numpy as np\n",
    "\n",
    "\n",
    "def spme_ode(u, p, t):\n",
    "    radial = eq_radial_diffusion(u, t, stack, (p[0], p[1]))\n",
    "    spacial = eq_spacial_transportation(u, t, offset=p[0] + p[1])\n",
    "    return np.concatenate((radial, spacial))"
   ]
  },
  {
   "cell_type": "code",
   "execution_count": 33,
   "metadata": {},
   "outputs": [],
   "source": [
    "import numpy as np\n",
    "\n",
    "def spme_dae(du, u, p, t):\n",
    "    radial = eq_radial_diffusion(u, t, stack, (p[0], p[1]), du)\n",
    "    spacial = eq_spacial_transportation(u, t, offset=p[0] + p[1], du=du)\n",
    "    return np.concatenate((radial, spacial))"
   ]
  },
  {
   "attachments": {},
   "cell_type": "markdown",
   "metadata": {},
   "source": [
    "### Solving"
   ]
  },
  {
   "cell_type": "code",
   "execution_count": 34,
   "metadata": {},
   "outputs": [],
   "source": [
    "import numpy as np\n",
    "\n",
    "# intial values\n",
    "def ini_ones(x):\n",
    "    return np.ones((x.shape[1], x.shape[2]))\n",
    "\n",
    "u0_s_ano = basis_s.project(ini_ones) * ano[\"c_ini\"]\n",
    "u0_s_cat = basis_s.project(ini_ones) * cat[\"c_ini\"]\n",
    "u0_e = basis_x.project(ini_ones) * ele[\"c_ini\"]\n",
    "\n",
    "u0 = np.concatenate((u0_s_ano, u0_s_cat , u0_e))\n",
    "du0 = np.zeros(len(u0))\n",
    "differential_vars = [True] * len(du0)\n",
    "\n",
    "# time\n",
    "tspan = (0., t_end)\n",
    "\n",
    "\n",
    "params = [\n",
    "        len(u0_s_ano), \n",
    "        len(u0_s_cat)\n",
    "    ]"
   ]
  },
  {
   "cell_type": "code",
   "execution_count": 35,
   "metadata": {},
   "outputs": [],
   "source": [
    "from scipy.integrate import solve_ivp\n",
    "\n",
    "\n",
    "def spme(t,u):\n",
    "    return spme_ode(u, params, t)\n",
    "\n",
    "sol_spme = solve_ivp(\n",
    "    spme,\n",
    "    tspan,\n",
    "    u0,\n",
    "    method=\"Radau\",  # Radau, BDF, LSODA\n",
    "    max_step = 10,\n",
    "    dense_output=True,\n",
    ")"
   ]
  },
  {
   "attachments": {},
   "cell_type": "markdown",
   "metadata": {},
   "source": [
    "#### Post Processing"
   ]
  },
  {
   "cell_type": "code",
   "execution_count": 36,
   "metadata": {},
   "outputs": [
    {
     "name": "stdout",
     "output_type": "stream",
     "text": [
      "/home/willi/Documents/devel/battery/sol_spme/sol_spme.json\n"
     ]
    }
   ],
   "source": [
    "import numpy as np\n",
    "\n",
    "ts = np.linspace(0, t_end, int(t_end))\n",
    "\n",
    "us = sol_spme.sol(ts).T\n",
    "\n",
    "size = len(ts)\n",
    "\n",
    "Is = np.zeros(size)\n",
    "Us = np.zeros(size)\n",
    "c_es = [0]*size\n",
    "dict_ano={\n",
    "    \"c_surf\": np.zeros(size),\n",
    "    \"c_inner\": [0]*size,\n",
    "}\n",
    "dict_cat={\n",
    "    \"c_surf\": np.zeros(size),\n",
    "    \"c_inner\": [0]*size,\n",
    "}\n",
    "\n",
    "# post processing\n",
    "for i in range(size):\n",
    "    t = ts[i]\n",
    "    Is[i] = i_app(t)\n",
    "    com_a = stack[0]\n",
    "    com_s = stack[1]\n",
    "    com_c = stack[2]\n",
    "    u = us[i]\n",
    "    u_start = 0\n",
    "    u_end = u_start + params[0]\n",
    "    dict_ano[\"c_inner\"][i] = u[u_start:u_end]\n",
    "    dict_ano[\"c_surf\"][i] = get_surf(dict_ano[\"c_inner\"][i])\n",
    "\n",
    "    u_start = u_end\n",
    "    u_end = u_start + params[1]\n",
    "    dict_cat[\"c_inner\"][i] = u[u_start:u_end]\n",
    "    dict_cat[\"c_surf\"][i] = get_surf(dict_cat[\"c_inner\"][i])\n",
    "\n",
    "    u_start = u_end\n",
    "    c_es[i] = c_e = u[u_start:]\n",
    "    \n",
    "    calc_helpers(\n",
    "        [dict_ano[\"c_surf\"][i], dict_cat[\"c_surf\"][i]],\n",
    "        [\n",
    "            c_e[basis_x_ano.get_dofs()][0], \n",
    "            c_e[basis_x_sep.get_dofs()][0], \n",
    "            c_e[basis_x_cat.get_dofs()][0]],\n",
    "        stack, t\n",
    "    )\n",
    "    Us[i] = get_voltage([dict_ano[\"c_surf\"][i], dict_cat[\"c_surf\"][i]], c_e, stack, t)\n",
    "\n",
    "import polars as pl\n",
    "\n",
    "df = pl.DataFrame({\n",
    "    \"t\": ts,\n",
    "    \"I\": Is,\n",
    "    \"U\": Us,\n",
    "    \"ano.c_surf\":  dict_ano[\"c_surf\"],\n",
    "    \"ano.c_inner\": dict_ano[\"c_inner\"],\n",
    "    \"cat.c_surf\":  dict_cat[\"c_surf\"],\n",
    "    \"cat.c_inner\": dict_cat[\"c_inner\"],\n",
    "    \"c_e\": c_es\n",
    "})\n",
    "\n",
    "# write to file\n",
    "from pathlib import Path \n",
    "\n",
    "storageFile = result_path / \"sol_spme.json\"\n",
    "print(storageFile.absolute())\n",
    "df.write_json(storageFile)"
   ]
  },
  {
   "attachments": {},
   "cell_type": "markdown",
   "metadata": {},
   "source": [
    "#### (Optional) Other Solvers\n",
    "\n",
    "``diffeq`` is a package that is specialized on solving differential equations.\n",
    "While it has access to more solvers, the package utilizes libraries from the ``julia`` language.\n",
    "Therefore a more advanced setup is required:\n",
    "\n",
    "**Note:** ``julia`` has to be installed manually before continuing with the next steps!"
   ]
  },
  {
   "cell_type": "code",
   "execution_count": 37,
   "metadata": {},
   "outputs": [],
   "source": [
    "if use_julia and automated_setup:\n",
    "    ! python3.10 -m pip install julia\n",
    "    import julia\n",
    "    julia.install()\n",
    "    ! python3.10 -m pip install diffeqpy"
   ]
  },
  {
   "cell_type": "code",
   "execution_count": 38,
   "metadata": {},
   "outputs": [],
   "source": [
    "if use_julia:\n",
    "    from diffeqpy import de\n",
    "    prob = de.ODEProblem(spme_ode, u0, tspan, params)\n",
    "    # prob = de.DAEProblem(spm_dae, du0,u0, tspan, params, differential_vars=differential_vars)\n",
    "    sol_julia_ode = de.solve(prob, reltol = 1e-8, abstol = 1e-8)"
   ]
  },
  {
   "cell_type": "code",
   "execution_count": 39,
   "metadata": {},
   "outputs": [],
   "source": [
    "if use_julia:\n",
    "    import numpy as np\n",
    "    \n",
    "    ts = sol_julia_ode.t\n",
    "    us = sol_julia_ode.u\n",
    "    \n",
    "    size = len(ts)\n",
    "    \n",
    "    Is = np.zeros(size)\n",
    "    Us = np.zeros(size)\n",
    "    c_es = [0]*size\n",
    "    dict_ano={\n",
    "        \"c_surf\": np.zeros(size),\n",
    "        \"c_inner\": [0]*size,\n",
    "    }\n",
    "    dict_cat={\n",
    "        \"c_surf\": np.zeros(size),\n",
    "        \"c_inner\": [0]*size,\n",
    "    }\n",
    "    \n",
    "    # post processing\n",
    "    for i in range(size):\n",
    "        t = ts[i]\n",
    "        Is[i] = i_app(t)\n",
    "        com_a = stack[0]\n",
    "        com_s = stack[1]\n",
    "        com_c = stack[2]\n",
    "        u = us[i]\n",
    "        u_start = 0\n",
    "        u_end = u_start + params[0]\n",
    "        dict_ano[\"c_inner\"][i] = u[u_start:u_end]\n",
    "        dict_ano[\"c_surf\"][i] = get_surf(dict_ano[\"c_inner\"][i])\n",
    "    \n",
    "        u_start = u_end\n",
    "        u_end = u_start + params[1]\n",
    "        dict_cat[\"c_inner\"][i] = u[u_start:u_end]\n",
    "        dict_cat[\"c_surf\"][i] = get_surf(dict_cat[\"c_inner\"][i])\n",
    "    \n",
    "        u_start = u_end\n",
    "        c_es[i] = c_e = u[u_start:]\n",
    "        \n",
    "        calc_helpers(\n",
    "            [dict_ano[\"c_surf\"][i], dict_cat[\"c_surf\"][i]],\n",
    "            [\n",
    "                c_e[basis_x_ano.get_dofs()][0], \n",
    "                c_e[basis_x_sep.get_dofs()][0], \n",
    "                c_e[basis_x_cat.get_dofs()][0]],\n",
    "            stack, t\n",
    "        )\n",
    "        Us[i] = get_voltage([dict_ano[\"c_surf\"][i], dict_cat[\"c_surf\"][i]], c_e, stack, t)\n",
    "    \n",
    "    import polars as pl\n",
    "    \n",
    "    df = pl.DataFrame({\n",
    "        \"t\": ts,\n",
    "        \"I\": Is,\n",
    "        \"U\": Us,\n",
    "        \"ano.c_surf\":  dict_ano[\"c_surf\"],\n",
    "        \"ano.c_inner\": dict_ano[\"c_inner\"],\n",
    "        \"cat.c_surf\":  dict_cat[\"c_surf\"],\n",
    "        \"cat.c_inner\": dict_cat[\"c_inner\"],\n",
    "        \"c_e\": c_es\n",
    "    })\n",
    "    \n",
    "    # write to file\n",
    "    from pathlib import Path \n",
    "    \n",
    "    storageFile = result_path / \"sol_spme_ode.json\"\n",
    "    print(storageFile.absolute())\n",
    "    df.write_json(storageFile)"
   ]
  },
  {
   "attachments": {},
   "cell_type": "markdown",
   "metadata": {},
   "source": [
    "## Results"
   ]
  },
  {
   "cell_type": "code",
   "execution_count": 40,
   "metadata": {},
   "outputs": [
    {
     "name": "stdout",
     "output_type": "stream",
     "text": [
      "/home/willi/Documents/devel/battery/sol_spme/sol_spme.json\n"
     ]
    }
   ],
   "source": [
    "from pathlib import Path\n",
    "import polars as pl\n",
    "\n",
    "variants = [\"sol_spme.json\", \"sol_spme_ode.json\"]\n",
    "\n",
    "storageFile = result_path / variants[0]\n",
    "print(storageFile.absolute())\n",
    "df = pl.read_json(storageFile)"
   ]
  },
  {
   "cell_type": "code",
   "execution_count": 41,
   "metadata": {},
   "outputs": [],
   "source": [
    "Us = df.get_column(\"U\").view()\n",
    "ts = df.get_column(\"t\").view()\n",
    "Is = df.get_column(\"I\").view()\n",
    "ano_c_surfs = df.get_column(\"ano.c_surf\").view()\n",
    "cat_c_surfs = df.get_column(\"cat.c_surf\").view()"
   ]
  },
  {
   "cell_type": "code",
   "execution_count": 42,
   "metadata": {},
   "outputs": [
    {
     "name": "stdout",
     "output_type": "stream",
     "text": [
      "-1.5108187574600498 3.796528777780991\n"
     ]
    }
   ],
   "source": [
    "print(min(Us), max(Us))"
   ]
  },
  {
   "cell_type": "code",
   "execution_count": 43,
   "metadata": {},
   "outputs": [
    {
     "data": {
      "image/png": "[encoded data removed]",
      "text/plain": [
       "<Figure size 678.013x419.035 with 3 Axes>"
      ]
     },
     "execution_count": 43,
     "metadata": {},
     "output_type": "execute_result"
    }
   ],
   "source": [
    "import matplotlib.pyplot as plt\n",
    "from helpers import set_size\n",
    "\n",
    "plt.rcParams.update(plot_config)\n",
    "fig,ax = plt.subplots(3,1, figsize=set_size(490))\n",
    "\n",
    "# voltage over time\n",
    "img = ax[0]\n",
    "img.plot(ts, Us)\n",
    "img.set_xlabel(r\"$t \\; \\left[ s \\right]$\")\n",
    "img.set_ylabel(r\"$U \\; \\left[ V \\right]$\")\n",
    "img.set_xlim([np.floor(np.min(ts)/1000)*1000, np.ceil(np.max(ts)/1000)*1000])\n",
    "img.set_ylim([-2,4])\n",
    "\n",
    "# applied current over time\n",
    "img = ax[1]\n",
    "img.plot(ts, Is)\n",
    "img.set_xlabel(r\"$t \\; \\left[ s \\right]$\")\n",
    "img.set_ylabel(r\"$I_{app} \\; \\left[ A \\right]$\")\n",
    "img.set_xlim([np.floor(np.min(ts)/1000)*1000, np.ceil(np.max(ts)/1000)*1000])\n",
    "img.set_ylim([np.floor(np.min(i_apps)/10)*10, np.ceil(np.max(i_apps)/10)*10])\n",
    "\n",
    "# applied current over time\n",
    "img = ax[2]\n",
    "img.plot(ts, ano_c_surfs)\n",
    "img.plot(ts, cat_c_surfs)\n",
    "img.set_xlabel(r\"$t \\; \\left[ s \\right]$\")\n",
    "img.set_ylabel(r\"$c_{Li^+} \\; \\left[ \\frac{mol}{l^3} \\right]$\")\n",
    "img.set_xlim([np.floor(np.min(ts)/1000)*1000, np.ceil(np.max(ts)/1000)*1000])\n",
    "\n",
    "c_max = np.ceil(stack[2][\"c_max\"]/1000)\n",
    "img.set_ylim([0, c_max *  1000])\n",
    "ylocs = np.round(np.linspace(0, c_max, 4),1)\n",
    "img.set_yticks(ylocs * 1000, ylocs)\n",
    "\n",
    "fig.tight_layout(pad=0)\n",
    "save_plot(plt, 'U(t)&Iapp(t)&c(t)')\n",
    "\n",
    "fig"
   ]
  }
 ],
 "metadata": {
  "kernelspec": {
   "display_name": "Python 3",
   "language": "python",
   "name": "python3"
  },
  "language_info": {
   "codemirror_mode": {
    "name": "ipython",
    "version": 3
   },
   "file_extension": ".py",
   "mimetype": "text/x-python",
   "name": "python",
   "nbconvert_exporter": "python",
   "pygments_lexer": "ipython3",
   "version": "3.10.12"
  },
  "orig_nbformat": 4
 },
 "nbformat": 4,
 "nbformat_minor": 2
}
