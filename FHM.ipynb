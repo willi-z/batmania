{
 "cells": [
  {
   "attachments": {},
   "cell_type": "markdown",
   "metadata": {},
   "source": [
    "# FHM Model"
   ]
  },
  {
   "attachments": {},
   "cell_type": "markdown",
   "metadata": {},
   "source": [
    "## Sources\n",
    "- [] On Veracity of Macroscopic Lithium-Ion Battery Models  10.1149/2.0771509jes\n",
    "- [] What if the Doyle-Fuller-Newman Model Fails? A New Macroscale Modeling Framework 10.1109/CDC.2018.8619793\n",
    "\n",
    "- [] Simplification of full homogenized macro-scale model for lithium-ion batteries  10.1016/j.est.2021.103801"
   ]
  },
  {
   "attachments": {},
   "cell_type": "markdown",
   "metadata": {},
   "source": [
    "## Setup"
   ]
  },
  {
   "cell_type": "code",
   "execution_count": 2,
   "metadata": {},
   "outputs": [
    {
     "name": "stdout",
     "output_type": "stream",
     "text": [
      "3.10.11 (main, Apr  5 2023, 00:00:00) [GCC 13.0.1 20230404 (Red Hat 13.0.1-0)]\n"
     ]
    }
   ],
   "source": [
    "import sys\n",
    "print(sys.version)"
   ]
  },
  {
   "cell_type": "code",
   "execution_count": 3,
   "metadata": {},
   "outputs": [],
   "source": [
    "%%capture\n",
    "! python3.10 -m pip install --upgrade pip\n",
    "! python3.10 -m pip install numpy\n",
    "! python3.10 -m pip install matplotlib\n",
    "! python3.10 -m pip install scikit-fem"
   ]
  },
  {
   "cell_type": "code",
   "execution_count": 4,
   "metadata": {},
   "outputs": [
    {
     "name": "stdout",
     "output_type": "stream",
     "text": [
      "Defaulting to user installation because normal site-packages is not writeable\n",
      "Requirement already satisfied: julia in /home/willi/.local/lib/python3.10/site-packages (0.6.1)\n"
     ]
    },
    {
     "name": "stderr",
     "output_type": "stream",
     "text": [
      "[ Info: Julia version info\n"
     ]
    },
    {
     "name": "stdout",
     "output_type": "stream",
     "text": [
      "Julia Version 1.8.5\n",
      "Commit 17cfb8e65ea (2023-01-08 06:45 UTC)\n",
      "Platform Info:\n",
      "  OS: Linux (x86_64-linux-gnu)\n",
      "      \"Fedora release 38 (Thirty Eight)\"\n",
      "  uname: Linux 6.2.11-300.fc38.x86_64 #1 SMP PREEMPT_DYNAMIC Thu Apr 13 20:27:09 UTC 2023 x86_64 unknown\n",
      "  CPU: AMD Ryzen 7 3700U with Radeon Vega Mobile Gfx: \n",
      "              speed         user         nice          sys         idle          irq\n",
      "       #1  2398 MHz       2045 s         40 s        568 s      12068 s        219 s\n",
      "       #2  2399 MHz       2023 s         34 s        489 s      12369 s         81 s\n",
      "       #3  1199 MHz       2131 s         21 s        543 s      12176 s         92 s\n",
      "       #4  1400 MHz       2049 s         44 s        458 s      12387 s         81 s\n",
      "       #5  1198 MHz       2156 s         23 s        499 s      12203 s         97 s\n",
      "       #6  1200 MHz       2081 s         24 s        434 s      12394 s         82 s\n",
      "       #7  2349 MHz       1875 s         20 s        535 s      12468 s         87 s\n",
      "       #8  1200 MHz       2192 s         33 s        455 s      12273 s         81 s\n",
      "  Memory: 13.571178436279297 GB (7117.515625 MB free)\n",
      "  Uptime: 1512.94 sec\n",
      "  Load Avg:  1.58  1.31  1.21\n",
      "  WORD_SIZE: 64\n",
      "  LIBM: libopenlibm\n",
      "  LLVM: libLLVM-13.0.1 (ORCJIT, znver1)\n",
      "  Threads: 1 on 8 virtual cores\n",
      "Environment:\n",
      "  HOME = /home/willi\n",
      "  MANPATH = /usr/share/lmod/lmod/share/man:\n",
      "  MAVEN_HOME = /opt/maven\n",
      "  MODULEPATH = /etc/modulefiles:/usr/share/modulefiles:/usr/share/modulefiles/Linux:/usr/share/modulefiles/Core:/usr/share/lmod/lmod/modulefiles/Core\n",
      "  MODULEPATH_ROOT = /usr/share/modulefiles\n",
      "  MODULESHOME = /usr/share/lmod/lmod\n",
      "  MOZ_GMP_PATH = /usr/lib64/mozilla/plugins/gmp-gmpopenh264/system-installed\n",
      "  PATH = /usr/bin:/home/willi/.local/bin:/home/willi/.juliaup/bin:/home/willi/.cargo/bin:/home/willi/.local/bin:/home/willi/bin:/usr/local/bin:/usr/local/sbin:/usr/bin:/usr/sbin:/opt/maven/bin:/opt/maven/bin:/home/willi/.juliaup/bin:/home/willi/.cargo/bin:/home/willi/.local/bin:/home/willi/bin:/usr/local/bin:/usr/local/sbin:/usr/bin:/usr/sbin:/opt/maven/bin:/opt/maven/bin\n",
      "  VSCODE_CODE_CACHE_PATH = /home/willi/.config/Code/CachedData/704ed70d4fd1c6bd6342c436f1ede30d1cff4710\n",
      "  TERM = xterm-color\n"
     ]
    },
    {
     "name": "stderr",
     "output_type": "stream",
     "text": [
      "[ Info: Julia executable: /home/willi/.julia/juliaup/julia-1.8.5+0.x64.linux.gnu/bin/julia\n",
      "[ Info: Trying to import PyCall...\n",
      "┌ Info: PyCall is already installed and compatible with Python executable.\n",
      "│ \n",
      "│ PyCall:\n",
      "│     python: /usr/bin/python3.10\n",
      "│     libpython: /usr/lib64/libpython3.10.so.1.0\n",
      "│ Python:\n",
      "│     python: /usr/bin/python3.10\n",
      "└     libpython: /usr/lib64/libpython3.10.so.1.0\n"
     ]
    }
   ],
   "source": [
    "! python3.10 -m pip install julia\n",
    "import julia\n",
    "julia.install()"
   ]
  },
  {
   "cell_type": "code",
   "execution_count": 5,
   "metadata": {},
   "outputs": [
    {
     "name": "stdout",
     "output_type": "stream",
     "text": [
      "Defaulting to user installation because normal site-packages is not writeable\n",
      "Requirement already satisfied: diffeqpy in /home/willi/.local/lib/python3.10/site-packages (1.2.0)\n",
      "Requirement already satisfied: julia>=0.2 in /home/willi/.local/lib/python3.10/site-packages (from diffeqpy) (0.6.1)\n"
     ]
    }
   ],
   "source": [
    "! python3.10 -m pip install diffeqpy"
   ]
  },
  {
   "attachments": {},
   "cell_type": "markdown",
   "metadata": {},
   "source": [
    "## Model-implementation"
   ]
  },
  {
   "attachments": {},
   "cell_type": "markdown",
   "metadata": {},
   "source": [
    "### FEM"
   ]
  },
  {
   "cell_type": "code",
   "execution_count": null,
   "metadata": {},
   "outputs": [],
   "source": [
    "import numpy as np\n",
    "from skfem import MeshLine, Basis, ElementLineP2, BilinearForm, LinearForm\n",
    "from skfem.helpers import dot, grad\n",
    "\n",
    "\n",
    "# SIMULATION CONTROL\n",
    "n_points_particle = 20 + 1\n",
    "# MESHING\n",
    "space = np.linspace(0, 1, n_points_particle)\n",
    "mesh = MeshLine(space).with_boundaries(\n",
    "    {\"inner\": lambda xi: xi[0] == 0, \"surface\": lambda xi: xi[0] == 1.0}\n",
    ")\n",
    "\n",
    "basis = Basis(mesh, ElementLineP2())  # ElementLineHermite\n",
    "basis_surf = basis.boundary(\"surface\")\n",
    "dofs = basis.get_dofs(\"surface\")"
   ]
  }
 ],
 "metadata": {
  "kernelspec": {
   "display_name": "Python 3",
   "language": "python",
   "name": "python3"
  },
  "language_info": {
   "codemirror_mode": {
    "name": "ipython",
    "version": 3
   },
   "file_extension": ".py",
   "mimetype": "text/x-python",
   "name": "python",
   "nbconvert_exporter": "python",
   "pygments_lexer": "ipython3",
   "version": "3.10.11"
  },
  "orig_nbformat": 4
 },
 "nbformat": 4,
 "nbformat_minor": 2
}
