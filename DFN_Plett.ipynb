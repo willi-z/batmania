{
 "cells": [
  {
   "attachments": {},
   "cell_type": "markdown",
   "metadata": {},
   "source": [
    "# Doyler-Fuller-Newmann Model"
   ]
  },
  {
   "attachments": {},
   "cell_type": "markdown",
   "metadata": {},
   "source": [
    "## About\n",
    "\n",
    "- authors:\n",
    "    - Marc Doyle \n",
    "    - Thomas F. Fuller \n",
    "    - John Newman\n",
    "- tags:\n",
    "    - micro\n",
    "    - macro\n",
    "    - spm\n",
    "    - electrolyte\n",
    "- sources:\n",
    "    - [paper](https://iopscience.iop.org/article/10.1149/1.2221597)\n",
    "    - [book](https://us.artechhouse.com/Battery-Management-Systems-Volume-1-Battery-Modeling-P1752.aspx)\n",
    "    - [book solutions](http://mocha-java.uccs.edu/BMS1/ )\n",
    "    - [course](http://mocha-java.uccs.edu/ECE5710/index.html)\n",
    "\n",
    "The BMS I from Gregory Plett is great introduction to the huge problem of battery modeling.\n",
    "It introduces the topics of equivalent circuit models, physical models of varient scales (micro and macro), explains how to reduce simulation time and explains how to extend the basic models. It also explaines how to implement the DFN model with FEM.\n",
    "\n"
   ]
  },
  {
   "cell_type": "code",
   "execution_count": null,
   "metadata": {},
   "outputs": [],
   "source": []
  }
 ],
 "metadata": {
  "language_info": {
   "name": "python"
  },
  "orig_nbformat": 4
 },
 "nbformat": 4,
 "nbformat_minor": 2
}
